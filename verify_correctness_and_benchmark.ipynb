{
 "cells": [
  {
   "cell_type": "code",
   "execution_count": 1,
   "metadata": {},
   "outputs": [],
   "source": [
    "%matplotlib inline\n",
    "from matplotlib import pyplot as plt\n",
    "\n",
    "import numpy as np\n",
    "import torch\n",
    "from spectral_hyperresolution.linear_reassignment import high_resolution_spectogram as high_resolution_spectogram_numpy\n",
    "from spectral_hyperresolution.linear_reassignment import high_resolution_spectogram_sparse as high_resolution_spectogram_numpy_sparse\n",
    "from spectral_hyperresolution.linear_reassignment_pytorch import high_resolution_spectogram as high_resolution_spectogram_pytorch\n",
    "from spectral_hyperresolution.linear_reassignment_pytorch_vectorized import high_resolution_spectogram as high_resolution_spectogram_vectorized\n",
    "from scipy.io import wavfile\n",
    "import librosa\n",
    "from scipy.io import loadmat"
   ]
  },
  {
   "cell_type": "code",
   "execution_count": 2,
   "metadata": {},
   "outputs": [],
   "source": [
    "result_matlab = loadmat('data/verify_correctness.mat')['result']\n",
    "x_matlab = loadmat('data/verify_correctness.mat')['x']"
   ]
  },
  {
   "cell_type": "code",
   "execution_count": 4,
   "metadata": {},
   "outputs": [],
   "source": [
    "q = 2;\n",
    "tdeci = 450;\n",
    "over = 20;\n",
    "noct = 12;\n",
    "minf = 4e-3;\n",
    "maxf = 0.45;"
   ]
  },
  {
   "cell_type": "markdown",
   "metadata": {},
   "source": [
    "Let us first run the calculations on the GPU using Pytorch."
   ]
  },
  {
   "cell_type": "code",
   "execution_count": 6,
   "metadata": {},
   "outputs": [
    {
     "name": "stdout",
     "output_type": "stream",
     "text": [
      "CPU times: user 8.6 s, sys: 2.8 s, total: 11.4 s\n",
      "Wall time: 11.4 s\n"
     ]
    }
   ],
   "source": [
    "%%time\n",
    "\n",
    "result_pytorch_float64 = high_resolution_spectogram_pytorch(x_matlab, q, tdeci, over, noct, minf, maxf, torch.device('cuda'), dtype=torch.float64)"
   ]
  },
  {
   "cell_type": "markdown",
   "metadata": {},
   "source": [
    "Using single precision instead of double precision is 2x faster but is slightly less accurate (the original MATLAB implementation uses double precision floats)."
   ]
  },
  {
   "cell_type": "code",
   "execution_count": 7,
   "metadata": {},
   "outputs": [
    {
     "name": "stdout",
     "output_type": "stream",
     "text": [
      "CPU times: user 6.21 s, sys: 1.05 s, total: 7.26 s\n",
      "Wall time: 6.28 s\n"
     ]
    }
   ],
   "source": [
    "%%time\n",
    "\n",
    "result_pytorch_float32 = high_resolution_spectogram_pytorch(x_matlab, q, tdeci, over, noct, minf, maxf, torch.device('cuda'), dtype=torch.float32)"
   ]
  },
  {
   "cell_type": "markdown",
   "metadata": {},
   "source": [
    "There is also a vectorized implementation. The amount of data it can run on is limited by the available GPU RAM. This can be to some extent mitigated by the `chunks` parameter.\n",
    "\n",
    "On a 1080ti and given the amount of data I was only able to run the vectorized version of the algorithm using `float32`. Still, on smaller amounts of data, it can be faster than the non-vectorized version. In one experiment I observed ten fold improvement in execution time."
   ]
  },
  {
   "cell_type": "code",
   "execution_count": 8,
   "metadata": {},
   "outputs": [
    {
     "name": "stdout",
     "output_type": "stream",
     "text": [
      "CPU times: user 4.7 s, sys: 1.86 s, total: 6.56 s\n",
      "Wall time: 5.58 s\n"
     ]
    }
   ],
   "source": [
    "%%time\n",
    "\n",
    "result_pytorch_vectorized = high_resolution_spectogram_vectorized(x_matlab, q, tdeci, over, noct, minf, maxf, torch.device('cuda'), chunks=15, dtype=torch.float32)"
   ]
  },
  {
   "cell_type": "markdown",
   "metadata": {},
   "source": [
    "Numpy running on the CPU is much, much slower. Still, it is ~20% faster than Pytorch code executed on the CPU.\n",
    "\n",
    "Both the numpy code below and Pytorch implementations using `DoubleTensors` return exactly the same results at the Matlab code."
   ]
  },
  {
   "cell_type": "code",
   "execution_count": 9,
   "metadata": {},
   "outputs": [
    {
     "name": "stdout",
     "output_type": "stream",
     "text": [
      "CPU times: user 33min 24s, sys: 1min 22s, total: 34min 47s\n",
      "Wall time: 5min 48s\n"
     ]
    }
   ],
   "source": [
    "%%time\n",
    "\n",
    "result_python_dense = high_resolution_spectogram_numpy(x_matlab, q, tdeci, over, noct, minf, maxf)"
   ]
  },
  {
   "cell_type": "markdown",
   "metadata": {},
   "source": [
    "The sparse implementation is much slower. Part of the slow down is due to the fact that I had to resolve to using swap. Nonetheless, even on simpler spectograms, this implementation will be at least 2x slower than the one above.\n",
    "\n",
    "The sparse implementation mimics most closely the Matlab implementation. It's memory footprint will grow (it's maximum size can be controlled by the `MAXL` parameter hard coded in the function body)."
   ]
  },
  {
   "cell_type": "code",
   "execution_count": 10,
   "metadata": {},
   "outputs": [
    {
     "name": "stdout",
     "output_type": "stream",
     "text": [
      "CPU times: user 1h 24min 44s, sys: 1h 5min 54s, total: 2h 30min 38s\n",
      "Wall time: 26min 55s\n"
     ]
    }
   ],
   "source": [
    "%%time\n",
    "\n",
    "result_python_sparse = high_resolution_spectogram_numpy_sparse(x_matlab, q, tdeci, over, noct, minf, maxf)"
   ]
  },
  {
   "cell_type": "code",
   "execution_count": 11,
   "metadata": {},
   "outputs": [
    {
     "data": {
      "text/plain": [
       "matrix([[7.84406079e-06, 2.43280844e-05, 2.38775212e-05, 3.25661946e-05,\n",
       "         3.97327638e-05, 4.30144901e-05, 5.24843663e-05, 5.37024620e-05,\n",
       "         5.86939640e-05, 9.62354563e-05]])"
      ]
     },
     "execution_count": 11,
     "metadata": {},
     "output_type": "execute_result"
    }
   ],
   "source": [
    "result_matlab.todense()[0, :10]"
   ]
  },
  {
   "cell_type": "code",
   "execution_count": 9,
   "metadata": {},
   "outputs": [
    {
     "data": {
      "text/plain": [
       "tensor([7.8441e-06, 2.4328e-05, 2.3878e-05, 3.2566e-05, 3.9733e-05, 4.3014e-05,\n",
       "        5.2484e-05, 5.3702e-05, 5.8694e-05, 9.6235e-05], device='cuda:0',\n",
       "       dtype=torch.float64)"
      ]
     },
     "execution_count": 9,
     "metadata": {},
     "output_type": "execute_result"
    }
   ],
   "source": [
    "result_pytorch_float64[0, :10]"
   ]
  },
  {
   "cell_type": "code",
   "execution_count": 10,
   "metadata": {},
   "outputs": [
    {
     "data": {
      "text/plain": [
       "tensor([7.8441e-06, 2.4328e-05, 2.3877e-05, 3.2566e-05, 3.9733e-05, 4.3015e-05,\n",
       "        5.2484e-05, 5.3703e-05, 5.8694e-05, 9.6236e-05], device='cuda:0')"
      ]
     },
     "execution_count": 10,
     "metadata": {},
     "output_type": "execute_result"
    }
   ],
   "source": [
    "result_pytorch_float32[0, :10]"
   ]
  },
  {
   "cell_type": "code",
   "execution_count": 11,
   "metadata": {},
   "outputs": [
    {
     "data": {
      "text/plain": [
       "tensor([7.8440e-06, 2.4328e-05, 2.3877e-05, 3.2566e-05, 3.9733e-05, 4.3015e-05,\n",
       "        5.2484e-05, 5.3703e-05, 5.8694e-05, 9.6235e-05], device='cuda:0')"
      ]
     },
     "execution_count": 11,
     "metadata": {},
     "output_type": "execute_result"
    }
   ],
   "source": [
    "result_pytorch_vectorized[0, :10]"
   ]
  },
  {
   "cell_type": "code",
   "execution_count": 12,
   "metadata": {},
   "outputs": [
    {
     "data": {
      "text/plain": [
       "array([7.84406079e-06, 2.43280844e-05, 2.38775212e-05, 3.25661946e-05,\n",
       "       3.97327638e-05, 4.30144901e-05, 5.24843663e-05, 5.37024620e-05,\n",
       "       5.86939640e-05, 9.62354563e-05])"
      ]
     },
     "execution_count": 12,
     "metadata": {},
     "output_type": "execute_result"
    }
   ],
   "source": [
    "result_python_dense[0, :10]"
   ]
  },
  {
   "cell_type": "code",
   "execution_count": 13,
   "metadata": {},
   "outputs": [
    {
     "data": {
      "text/plain": [
       "matrix([[7.84406079e-06, 2.43280844e-05, 2.38775212e-05, 3.25661946e-05,\n",
       "         3.97327638e-05, 4.30144901e-05, 5.24843663e-05, 5.37024620e-05,\n",
       "         5.86939640e-05, 9.62354563e-05]])"
      ]
     },
     "execution_count": 13,
     "metadata": {},
     "output_type": "execute_result"
    }
   ],
   "source": [
    "result_python_sparse.todense()[0, :10]"
   ]
  },
  {
   "cell_type": "code",
   "execution_count": 12,
   "metadata": {},
   "outputs": [
    {
     "data": {
      "text/plain": [
       "1.2656542480726785e-14"
      ]
     },
     "execution_count": 12,
     "metadata": {},
     "output_type": "execute_result"
    }
   ],
   "source": [
    "np.max(result_matlab.todense() - result_pytorch_float64.cpu().numpy())"
   ]
  },
  {
   "cell_type": "code",
   "execution_count": 13,
   "metadata": {},
   "outputs": [
    {
     "data": {
      "text/plain": [
       "9.047337450041049e-05"
      ]
     },
     "execution_count": 13,
     "metadata": {},
     "output_type": "execute_result"
    }
   ],
   "source": [
    "np.max(result_matlab.todense() - result_pytorch_float32.cpu().numpy())"
   ]
  },
  {
   "cell_type": "code",
   "execution_count": 14,
   "metadata": {},
   "outputs": [
    {
     "data": {
      "text/plain": [
       "8.922167696012728e-05"
      ]
     },
     "execution_count": 14,
     "metadata": {},
     "output_type": "execute_result"
    }
   ],
   "source": [
    "np.max(result_matlab.todense() - result_pytorch_vectorized.cpu().numpy())"
   ]
  },
  {
   "cell_type": "code",
   "execution_count": 16,
   "metadata": {},
   "outputs": [
    {
     "data": {
      "text/plain": [
       "1.199040866595169e-14"
      ]
     },
     "execution_count": 16,
     "metadata": {},
     "output_type": "execute_result"
    }
   ],
   "source": [
    "np.max(result_matlab.todense() - result_python_dense)"
   ]
  },
  {
   "cell_type": "code",
   "execution_count": 17,
   "metadata": {},
   "outputs": [
    {
     "data": {
      "text/plain": [
       "8.881784197001252e-15"
      ]
     },
     "execution_count": 17,
     "metadata": {},
     "output_type": "execute_result"
    }
   ],
   "source": [
    "np.max(result_matlab.todense() - result_python_sparse.todense())"
   ]
  },
  {
   "cell_type": "code",
   "execution_count": 20,
   "metadata": {},
   "outputs": [
    {
     "data": {
      "text/plain": [
       "True"
      ]
     },
     "execution_count": 20,
     "metadata": {},
     "output_type": "execute_result"
    }
   ],
   "source": [
    "np.allclose(result_matlab.todense(), result_python_dense, atol=1e-100)"
   ]
  },
  {
   "cell_type": "code",
   "execution_count": 21,
   "metadata": {},
   "outputs": [
    {
     "data": {
      "text/plain": [
       "True"
      ]
     },
     "execution_count": 21,
     "metadata": {},
     "output_type": "execute_result"
    }
   ],
   "source": [
    "np.allclose(result_matlab.todense(), result_python_sparse.todense(), atol=1e-100)"
   ]
  },
  {
   "cell_type": "code",
   "execution_count": 15,
   "metadata": {},
   "outputs": [
    {
     "data": {
      "text/plain": [
       "True"
      ]
     },
     "execution_count": 15,
     "metadata": {},
     "output_type": "execute_result"
    }
   ],
   "source": [
    "np.allclose(result_matlab.todense(), result_pytorch_float64.cpu().numpy(), atol=1e-100)"
   ]
  },
  {
   "cell_type": "code",
   "execution_count": 16,
   "metadata": {},
   "outputs": [
    {
     "data": {
      "text/plain": [
       "True"
      ]
     },
     "execution_count": 16,
     "metadata": {},
     "output_type": "execute_result"
    }
   ],
   "source": [
    "np.allclose(result_matlab.todense(), result_pytorch_float32.cpu().numpy(), atol=1e-4)"
   ]
  },
  {
   "cell_type": "code",
   "execution_count": 17,
   "metadata": {},
   "outputs": [
    {
     "data": {
      "text/plain": [
       "True"
      ]
     },
     "execution_count": 17,
     "metadata": {},
     "output_type": "execute_result"
    }
   ],
   "source": [
    "np.allclose(result_matlab.todense(), result_pytorch_vectorized.cpu().numpy(), atol=1e-4)"
   ]
  }
 ],
 "metadata": {
  "kernelspec": {
   "display_name": "Python 3",
   "language": "python",
   "name": "python3"
  },
  "language_info": {
   "codemirror_mode": {
    "name": "ipython",
    "version": 3
   },
   "file_extension": ".py",
   "mimetype": "text/x-python",
   "name": "python",
   "nbconvert_exporter": "python",
   "pygments_lexer": "ipython3",
   "version": "3.7.5"
  }
 },
 "nbformat": 4,
 "nbformat_minor": 2
}
