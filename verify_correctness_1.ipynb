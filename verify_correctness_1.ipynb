{
 "cells": [
  {
   "cell_type": "markdown",
   "metadata": {},
   "source": [
    "To ensure the correctness of the reimplementation, I will process the same file both in Matlab and Python (using same parameters) and compare the results."
   ]
  },
  {
   "cell_type": "code",
   "execution_count": 1,
   "metadata": {},
   "outputs": [],
   "source": [
    "[x, sr] = audioread('data/fragment_6.25_7.75.wav');"
   ]
  },
  {
   "cell_type": "code",
   "execution_count": 2,
   "metadata": {},
   "outputs": [
    {
     "name": "stdout",
     "output_type": "stream",
     "text": [
      "\n",
      "sr =\n",
      "\n",
      "      192000\n",
      "\n"
     ]
    }
   ],
   "source": [
    "sr"
   ]
  },
  {
   "cell_type": "code",
   "execution_count": 3,
   "metadata": {},
   "outputs": [
    {
     "name": "stdout",
     "output_type": "stream",
     "text": [
      "\n",
      "ans =\n",
      "\n",
      "      288001           2\n",
      "\n"
     ]
    }
   ],
   "source": [
    "size(x)"
   ]
  },
  {
   "cell_type": "code",
   "execution_count": 4,
   "metadata": {},
   "outputs": [],
   "source": [
    "q = 2;\n",
    "tdeci = 450;\n",
    "over = 20;\n",
    "noct = 12;\n",
    "minf = 4e-3;\n",
    "maxf = 0.45;"
   ]
  },
  {
   "cell_type": "code",
   "execution_count": 5,
   "metadata": {},
   "outputs": [
    {
     "name": "stdout",
     "output_type": "stream",
     "text": [
      "fft    took 79.4187    0.0355062     0.455422\n",
      "sparse took 17.7586    0.0355062     0.455422\n",
      "fft    took 81.1363     0.337794     0.925301\n",
      "sparse took 18.5989     0.337794     0.925301\n",
      "done_reassignment in 14.784 s\n"
     ]
    }
   ],
   "source": [
    "result = reassignmentgw(x, q, tdeci, over, noct, minf, maxf);"
   ]
  },
  {
   "cell_type": "code",
   "execution_count": 6,
   "metadata": {},
   "outputs": [],
   "source": [
    "save('data/verify_correctness.mat')"
   ]
  }
 ],
 "metadata": {
  "kernelspec": {
   "display_name": "Matlab",
   "language": "matlab",
   "name": "matlab"
  },
  "language_info": {
   "codemirror_mode": "octave",
   "file_extension": ".m",
   "help_links": [
    {
     "text": "MetaKernel Magics",
     "url": "https://metakernel.readthedocs.io/en/latest/source/README.html"
    }
   ],
   "mimetype": "text/x-octave",
   "name": "matlab",
   "version": "0.16.7"
  }
 },
 "nbformat": 4,
 "nbformat_minor": 2
}
