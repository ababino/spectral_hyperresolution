{
 "cells": [
  {
   "cell_type": "code",
   "execution_count": 1,
   "metadata": {},
   "outputs": [],
   "source": [
    "%matplotlib inline\n",
    "from matplotlib import pyplot as plt\n",
    "\n",
    "from scipy.io import loadmat\n",
    "import sys\n",
    "import numpy as np\n",
    "from numpy.fft import *\n",
    "from scipy.sparse import *"
   ]
  },
  {
   "cell_type": "code",
   "execution_count": 2,
   "metadata": {},
   "outputs": [],
   "source": [
    "# quickly load all the variables from mat file\n",
    "\n",
    "thismodule = sys.modules[__name__]\n",
    "val_dict = loadmat('data/variable_vals_inside_linear_reassignment.mat')\n",
    "\n",
    "for name, value in val_dict.items():\n",
    "    if name[:2] == '__': continue\n",
    "    setattr(thismodule, name, val_dict[name])"
   ]
  },
  {
   "cell_type": "code",
   "execution_count": 3,
   "metadata": {},
   "outputs": [],
   "source": [
    "N_p = [[x.size]]"
   ]
  },
  {
   "cell_type": "code",
   "execution_count": 4,
   "metadata": {},
   "outputs": [],
   "source": [
    "assert N_p == N"
   ]
  },
  {
   "cell_type": "code",
   "execution_count": 5,
   "metadata": {},
   "outputs": [],
   "source": [
    "xf_p = fftn(x)"
   ]
  },
  {
   "cell_type": "code",
   "execution_count": 6,
   "metadata": {},
   "outputs": [
    {
     "data": {
      "text/plain": [
       "True"
      ]
     },
     "execution_count": 6,
     "metadata": {},
     "output_type": "execute_result"
    }
   ],
   "source": [
    "np.any(xf_p == xf)"
   ]
  },
  {
   "cell_type": "code",
   "execution_count": 7,
   "metadata": {},
   "outputs": [],
   "source": [
    "HT_p = np.ceil(N_p/tdeci)"
   ]
  },
  {
   "cell_type": "code",
   "execution_count": 8,
   "metadata": {},
   "outputs": [],
   "source": [
    "assert HT_p == HT"
   ]
  },
  {
   "cell_type": "code",
   "execution_count": 9,
   "metadata": {},
   "outputs": [],
   "source": [
    "noct = noct.astype(np.float32)"
   ]
  },
  {
   "cell_type": "code",
   "execution_count": 10,
   "metadata": {},
   "outputs": [],
   "source": [
    "HF_p = np.ceil(-noct*np.log2(minf/maxf)+1)"
   ]
  },
  {
   "cell_type": "code",
   "execution_count": 11,
   "metadata": {},
   "outputs": [],
   "source": [
    "assert HF_p == HF"
   ]
  },
  {
   "cell_type": "code",
   "execution_count": 12,
   "metadata": {},
   "outputs": [],
   "source": [
    "f_p = np.arange(0, N) / N"
   ]
  },
  {
   "cell_type": "code",
   "execution_count": 13,
   "metadata": {},
   "outputs": [],
   "source": [
    "assert np.all(f_p == f)"
   ]
  },
  {
   "cell_type": "code",
   "execution_count": 14,
   "metadata": {},
   "outputs": [
    {
     "name": "stderr",
     "output_type": "stream",
     "text": [
      "/home/radek/anaconda3/envs/fastai/lib/python3.7/site-packages/scipy/sparse/compressed.py:287: SparseEfficiencyWarning: Comparing a sparse matrix with a scalar greater than zero using < is inefficient, try using >= instead.\n",
      "  warn(bad_scalar_msg, SparseEfficiencyWarning)\n",
      "/home/radek/anaconda3/envs/fastai/lib/python3.7/site-packages/scipy/sparse/_index.py:127: SparseEfficiencyWarning: Changing the sparsity structure of a csc_matrix is expensive. lil_matrix is more efficient.\n",
      "  self._set_arrayXarray(i, j, x)\n"
     ]
    }
   ],
   "source": [
    "histo = csc_matrix((HT[0][0], HF[0][0]))\n",
    "histc = csc_matrix((HT[0][0], HF[0][0]))\n",
    "\n",
    "allt = np.zeros((1,0))\n",
    "allf = np.zeros((1,0))\n",
    "alle = np.zeros((1,0))\n",
    "allc = np.zeros((1,0))\n",
    "\n",
    "minf = minf.astype(np.float32)\n",
    "maxf = maxf.astype(np.float32)\n",
    "over = over.astype(np.float32)\n",
    "noct = noct.astype(np.float32)\n",
    "\n",
    "# here I manually stepped through the for loop in Matlab and implemented and verified correctness after each step\n",
    "\n",
    "for log2f0 in np.arange(0, HF.astype(np.float32)*over):\n",
    "    f0 = minf*2**(log2f0/over/noct)\n",
    "    sigma = f0/(2*np.pi*q)\n",
    "    gau = np.exp(-(f-f0)**2 / (2*sigma**2))\n",
    "    gde = -1/sigma**1 * (f-f0) * gau\n",
    "    \n",
    "    xi = ifftn(gau.T * xf)\n",
    "    eta = ifftn(gde.T * xf)\n",
    "    mp = eta / xi\n",
    "    ener = abs(xi)**2\n",
    "    \n",
    "    tins = np.arange(1, N+1).reshape(-1, 1) + np.imag(mp)/(2*np.pi*sigma)\n",
    "    fins = f0 - np.real(mp)*sigma;\n",
    "    \n",
    "    mask = (abs(mp)<lint) & (fins < maxf) & (fins>minf) & (tins>=1) & (tins<N)\n",
    "    tins = tins[mask]\n",
    "    fins = fins[mask]\n",
    "    ener = ener[mask]\n",
    "    \n",
    "    itins = np.round(tins/tdeci+0.5)               \n",
    "    ifins = np.round(-noct*np.log2(fins/maxf)+1)\n",
    "    \n",
    "    allt = np.hstack((allt, itins))\n",
    "    allf = np.hstack((allf, ifins))\n",
    "    alle = np.hstack((alle, ener.reshape(1, -1)))\n",
    "    allc = np.hstack((allc, 0*itins+1))\n",
    "    \n",
    "    if(len(allt)>MAXL):\n",
    "        histo = histo + csc_matrix(\n",
    "            (\n",
    "                alle[0],\n",
    "                (allt[0].astype(np.int) - 1, allf[0].astype(np.int) - 1)\n",
    "            ),\n",
    "            (HT[0][0],HF[0][0])\n",
    "        )\n",
    "\n",
    "        histc = histc + csc_matrix(\n",
    "            (\n",
    "                allc[0],\n",
    "                (allt[0].astype(np.int) - 1, allf[0].astype(np.int) - 1)\n",
    "            ),\n",
    "            (HT[0][0],HF[0][0])\n",
    "        )\n",
    "        allt = []\n",
    "        allf = []\n",
    "        alle = []\n",
    "        allc = []\n",
    "        \n",
    "histo = histo + csc_matrix(\n",
    "    (\n",
    "        alle[0],\n",
    "        (allt[0].astype(np.int) - 1, allf[0].astype(np.int) - 1)\n",
    "    ),\n",
    "    (HT[0][0],HF[0][0])\n",
    ")\n",
    "    \n",
    "histc = histc + csc_matrix(\n",
    "    (\n",
    "        allc[0],\n",
    "        (allt[0].astype(np.int) - 1, allf[0].astype(np.int) - 1)\n",
    "    ),\n",
    "    (HT[0][0],HF[0][0])\n",
    ")\n",
    "\n",
    "mm = csc_matrix.max(histc)\n",
    "histo[histc < np.sqrt(mm)] = 0\n",
    "histo.eliminate_zeros()"
   ]
  },
  {
   "cell_type": "code",
   "execution_count": 15,
   "metadata": {},
   "outputs": [
    {
     "data": {
      "text/plain": [
       "<matplotlib.image.AxesImage at 0x7f3e4403e588>"
      ]
     },
     "execution_count": 15,
     "metadata": {},
     "output_type": "execute_result"
    },
    {
     "data": {
      "image/png": "[encoded data removed]",
      "text/plain": [
       "<Figure size 432x288 with 1 Axes>"
      ]
     },
     "metadata": {
      "needs_background": "light"
     },
     "output_type": "display_data"
    }
   ],
   "source": [
    "plt.imshow(histo.todense().T, cmap=plt.cm.gray)"
   ]
  }
 ],
 "metadata": {
  "kernelspec": {
   "display_name": "Python 3",
   "language": "python",
   "name": "python3"
  },
  "language_info": {
   "codemirror_mode": {
    "name": "ipython",
    "version": 3
   },
   "file_extension": ".py",
   "mimetype": "text/x-python",
   "name": "python",
   "nbconvert_exporter": "python",
   "pygments_lexer": "ipython3",
   "version": "3.7.3"
  }
 },
 "nbformat": 4,
 "nbformat_minor": 2
}
