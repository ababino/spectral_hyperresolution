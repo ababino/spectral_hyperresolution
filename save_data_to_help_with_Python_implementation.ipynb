{
 "cells": [
  {
   "cell_type": "code",
   "execution_count": 1,
   "metadata": {},
   "outputs": [],
   "source": [
    "[x, sr] = audioread('data/whale_singing_excerpt.wav');"
   ]
  },
  {
   "cell_type": "code",
   "execution_count": 2,
   "metadata": {},
   "outputs": [],
   "source": [
    "q = 1;\n",
    "tdeci = 300;\n",
    "over = 2;\n",
    "noct = 100;\n",
    "minf = 0.02;\n",
    "maxf = 0.06;"
   ]
  },
  {
   "cell_type": "code",
   "execution_count": 3,
   "metadata": {},
   "outputs": [],
   "source": [
    "lint = 0.5;         % do not follow if reassignment takes you far\n",
    "MAXL = 2^27;        % maximum length of vector to avoid paging \n",
    "\n",
    "N = length(x);\n",
    "\n",
    "xf = fft(x);       % this is an \"inverted\" spectrogram, calculated from frequencies\n",
    "\n",
    "HT = ceil(N/tdeci);                     % number of final time bins (assuming 'tdeci' is the time window size)\n",
    "HF = ceil( -noct*log2(minf/maxf)+1);    % number of final freq bins, i.e. number of octaves * divisions between fmin and fmax. +1 so that maxf is indexed over in log2f0, below\n",
    "histo = spalloc(HT,HF,N);\n",
    "histc = spalloc(HT,HF,N); \n",
    "\n",
    "% prepare the masks\n",
    "\n",
    "f=(0.0:N-1)/N;\n",
    "\n",
    "allt = [];\n",
    "allf = [];\n",
    "alle = [];\n",
    "allc = [];\n",
    "\n",
    "for log2f0=0:( (HF*over) -1) % indices of oversampled (sub-subdivided) subdivided octaves\n",
    "    f0 = minf*2^(log2f0/over/noct); % frequencies (Hz) corresponding to octave subdivision indices\n",
    "    sigma = f0/(2*pi*q); % changed to 1/2pi % Gaussian parameter: increases with center frequency (f0), decreases with q (set bigger for more freq resolution)\n",
    "    gau = exp( -(f-f0).^2 / (2*sigma^2)); % Gaussian window over entire frequency axis (centered at f0)\n",
    "    gde = -1/sigma^1 * (f-f0) .* gau; % \"eta\" window over entire frequency axis (centered at f0)\n",
    "    \n",
    "    % compute reassignment operator\n",
    "    xi = ifft( gau' .* xf); % calculate ifft of Gaussian-windowed snippet \n",
    "    eta= ifft( gde' .* xf); % calculate ifft of eta-windowed snippet\n",
    "    mp = ( eta ./ xi );\n",
    "    ener = abs(xi).^2; % calculate ifft energy\n",
    "    \n",
    "    \n",
    "    % compute instantaneous time and frequency\n",
    "    tins = (1:N)' + imag(mp)/(2*pi*sigma);\n",
    "    fins =     f0 - real(mp)*sigma;\n",
    "    % mask the results to the histogram domain\n",
    "    mask = (abs(mp)<lint) & (fins < maxf) & (fins>minf) & (tins>=1) & (tins<N); % note that f0 > maxf possible\n",
    "    tins = tins( mask );\n",
    "    fins = fins( mask );\n",
    "    ener = ener( mask );\n",
    "    % histogram!\n",
    "    itins = gather( round(tins/tdeci+0.5)); % bin times... +0.5 ensures bin indices > 0\n",
    "    ifins = gather( round( - noct*log2(fins/maxf)+1) ); % bin freqs... +1 ensures bin indices > 0\n",
    "\n",
    "    allt = [ allt; itins ];\n",
    "    allf = [ allf; ifins ];\n",
    "    alle = [ alle; gather( ener ) ];\n",
    "    allc = [ allc; (0*itins+1) ];\n",
    "\n",
    "    if(length(allt)>MAXL)\n",
    "        histo=histo+sparse(allt,allf,alle,HT,HF);\n",
    "        histc=histc+sparse(allt,allf,allc,HT,HF);\n",
    "        allt = [];\n",
    "        allf = [];\n",
    "        alle = [];\n",
    "        allc = []; \n",
    "    end\n",
    "\n",
    "\n",
    "end\n",
    "\n",
    "histo=histo+sparse(allt,allf,alle,HT,HF);\n",
    "histc=histc+sparse(allt,allf,allc,HT,HF);\n",
    "\n",
    "mm = max(max(histc)); \n",
    "histo(histc<sqrt(mm)) = 0;\n",
    "histocomp=spalloc(HT,HF,sum(sum(histo>0))); \n",
    "histocomp(histo>0)=histo(histo>0); "
   ]
  },
  {
   "cell_type": "code",
   "execution_count": 4,
   "metadata": {},
   "outputs": [
    {
     "data": {
      "image/png": "[encoded data removed]",
      "text/plain": [
       "<IPython.core.display.Image object>"
      ]
     },
     "metadata": {},
     "output_type": "display_data"
    }
   ],
   "source": [
    "imshow(full(histocomp).', [0, max(full(histocomp), [], 'all')])"
   ]
  },
  {
   "cell_type": "code",
   "execution_count": 5,
   "metadata": {},
   "outputs": [],
   "source": [
    "save('data/variable_vals_inside_linear_reassignment.mat')"
   ]
  }
 ],
 "metadata": {
  "kernelspec": {
   "display_name": "Matlab",
   "language": "matlab",
   "name": "matlab"
  },
  "language_info": {
   "codemirror_mode": "octave",
   "file_extension": ".m",
   "help_links": [
    {
     "text": "MetaKernel Magics",
     "url": "https://metakernel.readthedocs.io/en/latest/source/README.html"
    }
   ],
   "mimetype": "text/x-octave",
   "name": "matlab",
   "version": "0.16.7"
  }
 },
 "nbformat": 4,
 "nbformat_minor": 2
}
